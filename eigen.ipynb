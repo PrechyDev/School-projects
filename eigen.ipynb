{
 "cells": [
  {
   "cell_type": "markdown",
   "metadata": {},
   "source": [
    "The following code is based on a personally created algorithm for finding eigen values and vectors using the power method. The iterations run for a specified number n. a refers to the matrix, while x refers to the eigen vectors. e_value is used for the the maximum eigen value in a vector. At the beginning of each iteration, it holds the value of the previous eigen value. x1 is used to hold the newly created matrix gotten from a * x, it is used to derive the eigen vectors x for each iteration by dividing each of its value by the largest value."
   ]
  },
  {
   "cell_type": "code",
   "execution_count": 13,
   "metadata": {},
   "outputs": [
    {
     "name": "stdout",
     "output_type": "stream",
     "text": [
      "for iteration 1:\n",
      "the error estimate is 96.29629629629629%\n",
      "The largest eigen value is 27\n",
      "its corresponding eigen vector is [1.0, 0.5185185185185185, 0.37037037037037035] \n",
      "\n",
      "for iteration 2:\n",
      "the error estimate is 57.451403887688976%\n",
      "The largest eigen value is 17.14814814814815\n",
      "its corresponding eigen vector is [1.0, 0.712742980561555, 0.5010799136069115] \n",
      "\n",
      "for iteration 3:\n",
      "the error estimate is 14.83865072838579%\n",
      "The largest eigen value is 20.136069114470843\n",
      "its corresponding eigen vector is [1.0, 0.6487182237477206, 0.43655475705245095] \n",
      "\n",
      "for iteration 4:\n",
      "the error estimate is 6.093108305996518%\n",
      "The largest eigen value is 18.979620293896815\n",
      "its corresponding eigen vector is [1.0, 0.6747783234527853, 0.45632873120199835] \n",
      "\n",
      "for iteration 5:\n",
      "the error estimate is 2.1589023206714986%\n",
      "The largest eigen value is 19.39841308414384\n",
      "its corresponding eigen vector is [1.0, 0.6659082281643273, 0.44819170683914394] \n",
      "\n",
      "for iteration 6:\n",
      "the error estimate is 0.7991697433507395%\n",
      "The largest eigen value is 19.244615936356425\n",
      "its corresponding eigen vector is [1.0, 0.6693482206442678, 0.45096596996553173] \n",
      "\n"
     ]
    }
   ],
   "source": [
    "def eigen(a,x,n):\n",
    "    e_value = x[0]\n",
    "    rows = len(a)\n",
    "    cols = len(a[0])\n",
    "    count = 0\n",
    "\n",
    "    for count in range(n):\n",
    "        x1 = []\n",
    "        if rows != cols:\n",
    "            print('not a square matrix')\n",
    "            return 0\n",
    "        else:\n",
    "            for i in range(rows):\n",
    "                sum = 0\n",
    "                for j in range(cols):\n",
    "                    sum += a[i][j] * x[j]\n",
    "                x1.append(sum)\n",
    "\n",
    "        max_value = max(x1)\n",
    "        e_estimate = abs(max_value - e_value)/max_value * 100\n",
    "        e_value = max_value #set the eigen value to the largest value in the mutiple matrix x1\n",
    "        \n",
    "\n",
    "        #to get the eigen vector\n",
    "        for i in range(len(x1)):\n",
    "            x[i] = x1[i]/e_value\n",
    "        \n",
    "        print(f'for iteration {count + 1}:')\n",
    "        print(f'the error estimate is {e_estimate}%')\n",
    "        print(f'The largest eigen value is {e_value}')\n",
    "        print(f'its corresponding eigen vector is {x} \\n')\n",
    "\n",
    "#sample code\n",
    "a = [[9, 10, 8],\n",
    "     [10, 5, -1],\n",
    "     [8, -1, 3]]\n",
    "x = [1, 1, 1]\n",
    "n = 6\n",
    "\n",
    "eigen(a,x,n)\n"
   ]
  }
 ],
 "metadata": {
  "kernelspec": {
   "display_name": "Python 3",
   "language": "python",
   "name": "python3"
  },
  "language_info": {
   "codemirror_mode": {
    "name": "ipython",
    "version": 3
   },
   "file_extension": ".py",
   "mimetype": "text/x-python",
   "name": "python",
   "nbconvert_exporter": "python",
   "pygments_lexer": "ipython3",
   "version": "3.9.2"
  }
 },
 "nbformat": 4,
 "nbformat_minor": 2
}
